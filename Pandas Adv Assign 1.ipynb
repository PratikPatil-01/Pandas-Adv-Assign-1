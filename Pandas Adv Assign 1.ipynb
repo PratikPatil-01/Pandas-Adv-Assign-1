{
 "cells": [
  {
   "cell_type": "markdown",
   "id": "f0ed2dd6-f449-4f54-84f5-cb5461fe2ef5",
   "metadata": {},
   "source": [
    "1) \n",
    "Here are five functions from the Pandas library along with their executions:\n",
    "</br>\n",
    "read_csv(): This function is used to read data from a CSV file into a Pandas DataFrame.\n",
    "python\n",
    "</br>\n",
    "head(): This function is used to display the first few rows of a DataFrame.\n",
    "</br>\n",
    "info(): This function is used to get a concise summary of the DataFrame including its column names, data types, and non-null counts.\n",
    "</br>\n",
    "describe(): This function is used to generate descriptive statistics of the DataFrame's numerical columns.\n",
    "</br>\n",
    "plot(): This function is used to create plots of the data in the DataFrame."
   ]
  },
  {
   "cell_type": "code",
   "execution_count": 8,
   "id": "cca6f12d-6683-4ab8-b5b2-9e74d34ae1fc",
   "metadata": {},
   "outputs": [
    {
     "name": "stdout",
     "output_type": "stream",
     "text": [
      "    type  fixed acidity  volatile acidity  citric acid  residual sugar  \\\n",
      "0  white            7.0              0.27         0.36            20.7   \n",
      "1  white            6.3              0.30         0.34             1.6   \n",
      "2  white            8.1              0.28         0.40             6.9   \n",
      "3  white            7.2              0.23         0.32             8.5   \n",
      "4  white            7.2              0.23         0.32             8.5   \n",
      "\n",
      "   chlorides  free sulfur dioxide  total sulfur dioxide  density    pH  \\\n",
      "0      0.045                 45.0                 170.0   1.0010  3.00   \n",
      "1      0.049                 14.0                 132.0   0.9940  3.30   \n",
      "2      0.050                 30.0                  97.0   0.9951  3.26   \n",
      "3      0.058                 47.0                 186.0   0.9956  3.19   \n",
      "4      0.058                 47.0                 186.0   0.9956  3.19   \n",
      "\n",
      "   sulphates  alcohol  quality  \n",
      "0       0.45      8.8        6  \n",
      "1       0.49      9.5        6  \n",
      "2       0.44     10.1        6  \n",
      "3       0.40      9.9        6  \n",
      "4       0.40      9.9        6  \n"
     ]
    }
   ],
   "source": [
    "import pandas as pd\n",
    "# Reading a CSV file into a DataFrame\n",
    "df = pd.read_csv('winequality.csv')\n",
    "# Displaying the first 5 rows of the DataFrame\n",
    "print(df.head())"
   ]
  },
  {
   "cell_type": "code",
   "execution_count": 9,
   "id": "89d10e45-02c2-411f-a59d-8771533410ae",
   "metadata": {},
   "outputs": [
    {
     "name": "stdout",
     "output_type": "stream",
     "text": [
      "<class 'pandas.core.frame.DataFrame'>\n",
      "RangeIndex: 6463 entries, 0 to 6462\n",
      "Data columns (total 13 columns):\n",
      " #   Column                Non-Null Count  Dtype  \n",
      "---  ------                --------------  -----  \n",
      " 0   type                  6463 non-null   object \n",
      " 1   fixed acidity         6463 non-null   float64\n",
      " 2   volatile acidity      6463 non-null   float64\n",
      " 3   citric acid           6463 non-null   float64\n",
      " 4   residual sugar        6463 non-null   float64\n",
      " 5   chlorides             6463 non-null   float64\n",
      " 6   free sulfur dioxide   6463 non-null   float64\n",
      " 7   total sulfur dioxide  6463 non-null   float64\n",
      " 8   density               6463 non-null   float64\n",
      " 9   pH                    6463 non-null   float64\n",
      " 10  sulphates             6463 non-null   float64\n",
      " 11  alcohol               6463 non-null   float64\n",
      " 12  quality               6463 non-null   int64  \n",
      "dtypes: float64(11), int64(1), object(1)\n",
      "memory usage: 656.5+ KB\n",
      "None\n"
     ]
    }
   ],
   "source": [
    "print(df.info())"
   ]
  },
  {
   "cell_type": "code",
   "execution_count": 10,
   "id": "2a12f68f-285d-4f5a-a086-3161f0ac38e3",
   "metadata": {},
   "outputs": [
    {
     "name": "stdout",
     "output_type": "stream",
     "text": [
      "<class 'pandas.core.frame.DataFrame'>\n",
      "RangeIndex: 6463 entries, 0 to 6462\n",
      "Data columns (total 13 columns):\n",
      " #   Column                Non-Null Count  Dtype  \n",
      "---  ------                --------------  -----  \n",
      " 0   type                  6463 non-null   object \n",
      " 1   fixed acidity         6463 non-null   float64\n",
      " 2   volatile acidity      6463 non-null   float64\n",
      " 3   citric acid           6463 non-null   float64\n",
      " 4   residual sugar        6463 non-null   float64\n",
      " 5   chlorides             6463 non-null   float64\n",
      " 6   free sulfur dioxide   6463 non-null   float64\n",
      " 7   total sulfur dioxide  6463 non-null   float64\n",
      " 8   density               6463 non-null   float64\n",
      " 9   pH                    6463 non-null   float64\n",
      " 10  sulphates             6463 non-null   float64\n",
      " 11  alcohol               6463 non-null   float64\n",
      " 12  quality               6463 non-null   int64  \n",
      "dtypes: float64(11), int64(1), object(1)\n",
      "memory usage: 656.5+ KB\n",
      "None\n"
     ]
    }
   ],
   "source": [
    "# Displaying the summary information of the DataFrame\n",
    "print(df.info())"
   ]
  },
  {
   "cell_type": "code",
   "execution_count": 11,
   "id": "52a400dd-22e5-41f5-9d27-f38e78365da5",
   "metadata": {},
   "outputs": [
    {
     "data": {
      "text/plain": [
       "<AxesSubplot: ylabel='Frequency'>"
      ]
     },
     "execution_count": 11,
     "metadata": {},
     "output_type": "execute_result"
    },
    {
     "data": {
      "image/png": "[encoded data removed]",
      "text/plain": [
       "<Figure size 640x480 with 1 Axes>"
      ]
     },
     "metadata": {},
     "output_type": "display_data"
    }
   ],
   "source": [
    "# Plotting a histogram of a numerical column\n",
    "df['density'].plot(kind='hist')"
   ]
  },
  {
   "cell_type": "code",
   "execution_count": null,
   "id": "d91844c6-9ac8-467f-a418-892fe18cca02",
   "metadata": {},
   "outputs": [],
   "source": []
  },
  {
   "cell_type": "markdown",
   "id": "daf02e0c-468c-49e6-8471-bb5e523172c8",
   "metadata": {},
   "source": [
    "2) "
   ]
  },
  {
   "cell_type": "code",
   "execution_count": 12,
   "id": "249852fc-28c6-4dcf-b16c-783f06974a77",
   "metadata": {},
   "outputs": [
    {
     "name": "stdout",
     "output_type": "stream",
     "text": [
      "        type  fixed acidity  volatile acidity  citric acid  residual sugar  \\\n",
      "1      white            7.0             0.270         0.36            20.7   \n",
      "3      white            6.3             0.300         0.34             1.6   \n",
      "5      white            8.1             0.280         0.40             6.9   \n",
      "7      white            7.2             0.230         0.32             8.5   \n",
      "9      white            7.2             0.230         0.32             8.5   \n",
      "...      ...            ...               ...          ...             ...   \n",
      "12917    red            6.8             0.620         0.08             1.9   \n",
      "12919    red            6.2             0.600         0.08             2.0   \n",
      "12921    red            6.3             0.510         0.13             2.3   \n",
      "12923    red            5.9             0.645         0.12             2.0   \n",
      "12925    red            6.0             0.310         0.47             3.6   \n",
      "\n",
      "       chlorides  free sulfur dioxide  total sulfur dioxide  density    pH  \\\n",
      "1          0.045                 45.0                 170.0  1.00100  3.00   \n",
      "3          0.049                 14.0                 132.0  0.99400  3.30   \n",
      "5          0.050                 30.0                  97.0  0.99510  3.26   \n",
      "7          0.058                 47.0                 186.0  0.99560  3.19   \n",
      "9          0.058                 47.0                 186.0  0.99560  3.19   \n",
      "...          ...                  ...                   ...      ...   ...   \n",
      "12917      0.068                 28.0                  38.0  0.99651  3.42   \n",
      "12919      0.090                 32.0                  44.0  0.99490  3.45   \n",
      "12921      0.076                 29.0                  40.0  0.99574  3.42   \n",
      "12923      0.075                 32.0                  44.0  0.99547  3.57   \n",
      "12925      0.067                 18.0                  42.0  0.99549  3.39   \n",
      "\n",
      "       sulphates  alcohol  quality  \n",
      "1           0.45      8.8        6  \n",
      "3           0.49      9.5        6  \n",
      "5           0.44     10.1        6  \n",
      "7           0.40      9.9        6  \n",
      "9           0.40      9.9        6  \n",
      "...          ...      ...      ...  \n",
      "12917       0.82      9.5        6  \n",
      "12919       0.58     10.5        5  \n",
      "12921       0.75     11.0        6  \n",
      "12923       0.71     10.2        5  \n",
      "12925       0.66     11.0        6  \n",
      "\n",
      "[6463 rows x 13 columns]\n"
     ]
    }
   ],
   "source": [
    "import pandas as pd\n",
    "\n",
    "def reindex_with_custom_index(df):\n",
    "    # Resetting the index and adding 1 to start from 1\n",
    "    new_index = pd.Series(range(1, len(df) * 2, 2))\n",
    "    df = df.reset_index(drop=True)\n",
    "    df.index = new_index\n",
    "    return df\n",
    "\n",
    "# Example usage:\n",
    "# Assuming df is your DataFrame with columns 'A', 'B', and 'C'\n",
    "# Call the function with your DataFrame as input\n",
    "new_df = reindex_with_custom_index(df)\n",
    "print(new_df)"
   ]
  },
  {
   "cell_type": "code",
   "execution_count": null,
   "id": "5f13029d-e8e6-490f-8e8c-ef735e1bea20",
   "metadata": {},
   "outputs": [],
   "source": []
  },
  {
   "cell_type": "markdown",
   "id": "6ede91c1-af0a-4ab5-9b16-b1c4243fe868",
   "metadata": {},
   "source": [
    "3) "
   ]
  },
  {
   "cell_type": "code",
   "execution_count": 21,
   "id": "48ee6486-4f41-4ba3-aad2-8d020a2ab44a",
   "metadata": {},
   "outputs": [
    {
     "name": "stdout",
     "output_type": "stream",
     "text": [
      "Sum of the first three values: 60\n"
     ]
    }
   ],
   "source": [
    "import pandas as pd\n",
    "\n",
    "data = {'Values': [10, 20, 30, 40, 50]}\n",
    "\n",
    "df1 = pd.DataFrame(data)\n",
    "\n",
    "def sum_first_three_values(df):\n",
    "    # Extracting the 'Values' column from the DataFrame\n",
    "    values_column = df1['Values']\n",
    "    \n",
    "    # Calculating the sum of the first three values\n",
    "    sum_of_first_three = sum(values_column[:3])\n",
    "    \n",
    "    # Printing the sum to the console\n",
    "    print(\"Sum of the first three values:\", sum_of_first_three)\n",
    "\n",
    "# Example usage:\n",
    "# Assuming df is your DataFrame with the column 'Values'\n",
    "# Call the function with your DataFrame as input\n",
    "sum_first_three_values(df1)"
   ]
  },
  {
   "cell_type": "code",
   "execution_count": null,
   "id": "3baddfbb-5583-46bb-a6bc-17e70dfe38c2",
   "metadata": {},
   "outputs": [],
   "source": []
  },
  {
   "cell_type": "markdown",
   "id": "08328259-913a-4cc0-8a55-d705fa1bd594",
   "metadata": {},
   "source": [
    "4) "
   ]
  },
  {
   "cell_type": "code",
   "execution_count": 22,
   "id": "8d46c4de-58c9-4f97-8667-21b3a4b06004",
   "metadata": {},
   "outputs": [
    {
     "name": "stdout",
     "output_type": "stream",
     "text": [
      "                    Text  Word_Count\n",
      "0  This is a sample text           5\n",
      "1        Another example           2\n",
      "2        Some more words           3\n"
     ]
    }
   ],
   "source": [
    "import pandas as pd\n",
    "\n",
    "def add_word_count_column(df):\n",
    "    # Applying a lambda function to calculate word count for each row\n",
    "    df['Word_Count'] = df['Text'].apply(lambda x: len(str(x).split()))\n",
    "    return df\n",
    "\n",
    "# Example usage:\n",
    "# Assuming df is your DataFrame with the column 'Text'\n",
    "# Call the function with your DataFrame as input\n",
    "df = pd.DataFrame({'Text': ['This is a sample text', 'Another example', 'Some more words']})\n",
    "df = add_word_count_column(df)\n",
    "print(df)"
   ]
  },
  {
   "cell_type": "code",
   "execution_count": null,
   "id": "17daa5ca-b29e-4fb8-b40d-8e727ccb059e",
   "metadata": {},
   "outputs": [],
   "source": []
  },
  {
   "cell_type": "markdown",
   "id": "054c9f97-b3c7-4032-8c58-e224192b5c8d",
   "metadata": {},
   "source": [
    "5) \n",
    "</br>\n",
    "DataFrame.size and DataFrame.shape are both attributes of Pandas DataFrames, but they serve different purposes:\n",
    "</br>\n",
    "DataFrame.size:\n",
    "</br>\n",
    "DataFrame.size returns the total number of elements in the DataFrame, which is calculated by multiplying the number of rows by the number of columns.\n",
    "It returns a single integer value representing the total number of elements in the DataFrame.\n",
    "</br>\n",
    "DataFrame.shape:\n",
    "</br>\n",
    "DataFrame.shape returns a tuple representing the dimensions of the DataFrame.\n",
    "The tuple contains two elements: the number of rows and the number of columns in the DataFrame.\n",
    "It provides a convenient way to quickly check the dimensions of the DataFrame.\n",
    "</br>\n",
    "Here's a summary of the differences:\n",
    "</br>\n",
    "DataFrame.size returns the total number of elements (rows * columns).</br>\n",
    "DataFrame.shape returns a tuple representing the dimensions (rows, columns).</br>"
   ]
  },
  {
   "cell_type": "code",
   "execution_count": null,
   "id": "93cea517-6c81-4ee5-ac0f-ee1ad65250fa",
   "metadata": {},
   "outputs": [],
   "source": []
  },
  {
   "cell_type": "markdown",
   "id": "6ae6200b-5d38-4d8f-a841-5165692b3b46",
   "metadata": {},
   "source": [
    "6) \n",
    "</br>\n",
    "To read an Excel file in Pandas, you can use the read_excel() function. This function allows you to read data from an Excel file and create a DataFrame.\n",
    "</br>\n",
    "Ex:</br>\n",
    "import pandas as pd</br>\n",
    "Reading an Excel file into a DataFrame</br>\n",
    "df = pd.read_excel('filename.xlsx')"
   ]
  },
  {
   "cell_type": "code",
   "execution_count": null,
   "id": "c8b095c0-1860-4675-be32-7b7b380fcd82",
   "metadata": {},
   "outputs": [],
   "source": []
  },
  {
   "cell_type": "markdown",
   "id": "bfa0dca7-e597-4c9d-90d1-d6199499e8e4",
   "metadata": {},
   "source": [
    "7) \n",
    "str.split() method to split each email address into username and domain parts based on the '@' symbol. Then, you can extract the username part."
   ]
  },
  {
   "cell_type": "code",
   "execution_count": 23,
   "id": "b7a8082e-578b-43d3-adab-cd859771168e",
   "metadata": {},
   "outputs": [
    {
     "name": "stdout",
     "output_type": "stream",
     "text": [
      "               Email Username\n",
      "0  user1@example.com    user1\n",
      "1  user2@example.com    user2\n"
     ]
    }
   ],
   "source": [
    "import pandas as pd\n",
    "\n",
    "def extract_username(df):\n",
    "    # Splitting the 'Email' column into username and domain parts\n",
    "    username_domain = df['Email'].str.split('@', n=1, expand=True)\n",
    "    \n",
    "    # Extracting the username part\n",
    "    df['Username'] = username_domain[0]\n",
    "    \n",
    "    return df\n",
    "\n",
    "# Example usage:\n",
    "# Assuming df is your DataFrame with the column 'Email'\n",
    "# Call the function with your DataFrame as input\n",
    "df = pd.DataFrame({'Email': ['user1@example.com', 'user2@example.com']})\n",
    "df = extract_username(df)\n",
    "print(df)"
   ]
  },
  {
   "cell_type": "code",
   "execution_count": null,
   "id": "ab258dac-239d-4daa-92ef-dd591d427dcb",
   "metadata": {},
   "outputs": [],
   "source": []
  },
  {
   "cell_type": "markdown",
   "id": "d809011c-53de-4372-a7c6-17d578dae5fe",
   "metadata": {},
   "source": [
    "8) "
   ]
  },
  {
   "cell_type": "code",
   "execution_count": 24,
   "id": "3fb30c0e-a55a-47a2-83a6-5363cca024b7",
   "metadata": {},
   "outputs": [
    {
     "name": "stdout",
     "output_type": "stream",
     "text": [
      "   A  B  C\n",
      "1  8  2  7\n",
      "2  6  9  4\n",
      "4  9  1  2\n"
     ]
    }
   ],
   "source": [
    "import pandas as pd\n",
    "\n",
    "def select_rows(df):\n",
    "    # Using boolean indexing to filter the DataFrame\n",
    "    selected_rows = df[(df['A'] > 5) & (df['B'] < 10)]\n",
    "    return selected_rows\n",
    "\n",
    "# Example usage:\n",
    "# Assuming df is your DataFrame with columns 'A', 'B', and 'C'\n",
    "# Call the function with your DataFrame as input\n",
    "df = pd.DataFrame({'A': [3, 8, 6, 2, 9],\n",
    "                   'B': [5, 2, 9, 3, 1],\n",
    "                   'C': [1, 7, 4, 5, 2]})\n",
    "selected_df = select_rows(df)\n",
    "print(selected_df)"
   ]
  },
  {
   "cell_type": "code",
   "execution_count": null,
   "id": "afea4589-970a-4a13-ab5c-db27c0e3cef9",
   "metadata": {},
   "outputs": [],
   "source": []
  },
  {
   "cell_type": "markdown",
   "id": "196e7085-7af5-4cce-97a5-2c652c377b6f",
   "metadata": {},
   "source": [
    "9) "
   ]
  },
  {
   "cell_type": "code",
   "execution_count": 25,
   "id": "11966228-71dc-4ccc-b3b8-69e636324a84",
   "metadata": {},
   "outputs": [
    {
     "name": "stdout",
     "output_type": "stream",
     "text": [
      "Mean: 30.0\n",
      "Median: 30.0\n",
      "Standard Deviation: 15.811388300841896\n"
     ]
    }
   ],
   "source": [
    "import pandas as pd\n",
    "\n",
    "def calculate_statistics(df):\n",
    "    # Calculate mean, median, and standard deviation\n",
    "    mean_value = df['Values'].mean()\n",
    "    median_value = df['Values'].median()\n",
    "    std_deviation = df['Values'].std()\n",
    "    \n",
    "    return mean_value, median_value, std_deviation\n",
    "\n",
    "# Example usage:\n",
    "# Assuming df is your DataFrame with the column 'Values'\n",
    "# Call the function with your DataFrame as input\n",
    "df = pd.DataFrame({'Values': [10, 20, 30, 40, 50]})\n",
    "mean, median, std = calculate_statistics(df)\n",
    "print(\"Mean:\", mean)\n",
    "print(\"Median:\", median)\n",
    "print(\"Standard Deviation:\", std)"
   ]
  },
  {
   "cell_type": "code",
   "execution_count": null,
   "id": "b9180410-53c8-447b-9edd-0e98e8301d8d",
   "metadata": {},
   "outputs": [],
   "source": []
  },
  {
   "cell_type": "markdown",
   "id": "30051aa1-6845-476f-9f86-c31030d4ce25",
   "metadata": {},
   "source": [
    "10) "
   ]
  },
  {
   "cell_type": "code",
   "execution_count": 26,
   "id": "5946ca93-8be6-412f-8d37-dbab0317ebf4",
   "metadata": {},
   "outputs": [
    {
     "name": "stdout",
     "output_type": "stream",
     "text": [
      "        Date  Sales  MovingAverage\n",
      "0 2024-01-01     10           10.0\n",
      "1 2024-01-02     20           15.0\n",
      "2 2024-01-03     30           20.0\n",
      "3 2024-01-04     40           25.0\n",
      "4 2024-01-05     50           30.0\n",
      "5 2024-01-06     60           35.0\n",
      "6 2024-01-07     70           40.0\n"
     ]
    }
   ],
   "source": [
    "import pandas as pd\n",
    "\n",
    "def calculate_moving_average(df):\n",
    "    # Convert 'Date' column to datetime if not already\n",
    "    df['Date'] = pd.to_datetime(df['Date'])\n",
    "    \n",
    "    # Sort DataFrame by date\n",
    "    df = df.sort_values(by='Date')\n",
    "    \n",
    "    # Calculate moving average over a window of size 7\n",
    "    df['MovingAverage'] = df['Sales'].rolling(window=7, min_periods=1).mean()\n",
    "    \n",
    "    return df\n",
    "\n",
    "# Example usage:\n",
    "# Assuming df is your DataFrame with columns 'Sales' and 'Date'\n",
    "# Call the function with your DataFrame as input\n",
    "df = pd.DataFrame({'Date': ['2024-01-01', '2024-01-02', '2024-01-03', '2024-01-04', '2024-01-05', '2024-01-06', '2024-01-07'],\n",
    "                   'Sales': [10, 20, 30, 40, 50, 60, 70]})\n",
    "df = calculate_moving_average(df)\n",
    "print(df)"
   ]
  },
  {
   "cell_type": "code",
   "execution_count": null,
   "id": "03a2ee7b-1fae-4261-8c26-37ef0865b84b",
   "metadata": {},
   "outputs": [],
   "source": []
  },
  {
   "cell_type": "markdown",
   "id": "ec827aeb-9dbb-4f8f-9618-1f452b9e7083",
   "metadata": {},
   "source": [
    "11) "
   ]
  },
  {
   "cell_type": "code",
   "execution_count": 27,
   "id": "930668c6-ca0f-4ef4-b672-ad15cc5c9834",
   "metadata": {},
   "outputs": [
    {
     "name": "stdout",
     "output_type": "stream",
     "text": [
      "        Date    Weekday\n",
      "0 2023-01-01     Sunday\n",
      "1 2023-01-02     Monday\n",
      "2 2023-01-03    Tuesday\n",
      "3 2023-01-04  Wednesday\n",
      "4 2023-01-05   Thursday\n"
     ]
    }
   ],
   "source": [
    "import pandas as pd\n",
    "\n",
    "def add_weekday_column(df):\n",
    "    # Convert 'Date' column to datetime if not already\n",
    "    df['Date'] = pd.to_datetime(df['Date'])\n",
    "    \n",
    "    # Extract weekday names and add to 'Weekday' column\n",
    "    df['Weekday'] = df['Date'].dt.day_name()\n",
    "    \n",
    "    return df\n",
    "\n",
    "# Example usage:\n",
    "# Assuming df is your DataFrame with the column 'Date'\n",
    "# Call the function with your DataFrame as input\n",
    "df = pd.DataFrame({'Date': ['2023-01-01', '2023-01-02', '2023-01-03', '2023-01-04', '2023-01-05']})\n",
    "df = add_weekday_column(df)\n",
    "print(df)"
   ]
  },
  {
   "cell_type": "code",
   "execution_count": null,
   "id": "16ae0dce-205c-46f7-aa6c-ee55dd880e89",
   "metadata": {},
   "outputs": [],
   "source": []
  },
  {
   "cell_type": "markdown",
   "id": "b228fd9f-4367-4c34-9b82-8a96bc73a0eb",
   "metadata": {},
   "source": [
    "12) "
   ]
  },
  {
   "cell_type": "code",
   "execution_count": 28,
   "id": "e6653e2e-9c0e-4d14-bf1c-ebe866211e88",
   "metadata": {},
   "outputs": [
    {
     "name": "stdout",
     "output_type": "stream",
     "text": [
      "        Date\n",
      "0 2023-01-01\n",
      "1 2023-01-15\n",
      "2 2023-01-31\n"
     ]
    }
   ],
   "source": [
    "import pandas as pd\n",
    "\n",
    "def select_rows_in_date_range(df):\n",
    "    # Convert 'Date' column to datetime if not already\n",
    "    df['Date'] = pd.to_datetime(df['Date'])\n",
    "    \n",
    "    # Define the start and end dates for the range\n",
    "    start_date = '2023-01-01'\n",
    "    end_date = '2023-01-31'\n",
    "    \n",
    "    # Use boolean indexing to select rows within the date range\n",
    "    selected_rows = df[(df['Date'] >= start_date) & (df['Date'] <= end_date)]\n",
    "    \n",
    "    return selected_rows\n",
    "\n",
    "# Example usage:\n",
    "# Assuming df is your DataFrame with the column 'Date'\n",
    "# Call the function with your DataFrame as input\n",
    "df = pd.DataFrame({'Date': ['2023-01-01', '2023-01-15', '2023-01-31', '2023-02-05']})\n",
    "selected_df = select_rows_in_date_range(df)\n",
    "print(selected_df)"
   ]
  },
  {
   "cell_type": "code",
   "execution_count": null,
   "id": "7808d655-7cd0-4f89-b027-17b8341521b7",
   "metadata": {},
   "outputs": [],
   "source": []
  },
  {
   "cell_type": "markdown",
   "id": "d570f7f1-0815-458f-b448-7a0187713372",
   "metadata": {},
   "source": [
    "13) \n",
    "To use the basic functions of Pandas, the first and foremost necessary library that needs to be imported is pandas itself. You typically import it using the import statement.\n",
    "</br>\n",
    "import pandas as pd"
   ]
  }
 ],
 "metadata": {
  "kernelspec": {
   "display_name": "Python 3 (ipykernel)",
   "language": "python",
   "name": "python3"
  },
  "language_info": {
   "codemirror_mode": {
    "name": "ipython",
    "version": 3
   },
   "file_extension": ".py",
   "mimetype": "text/x-python",
   "name": "python",
   "nbconvert_exporter": "python",
   "pygments_lexer": "ipython3",
   "version": "3.10.8"
  }
 },
 "nbformat": 4,
 "nbformat_minor": 5
}
